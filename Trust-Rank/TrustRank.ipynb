{
 "cells": [
  {
   "cell_type": "markdown",
   "id": "b03000e6-3361-4d69-96ac-b3c6422a5bfe",
   "metadata": {},
   "source": [
    "**Fraud Analytics Assignment**  \n",
    "**Title: Trust Rank**  \n",
    "---\n",
    "**Group members:**  \n",
    "**Name&emsp;: Dindorkar Mayuresh Rajesh**  \n",
    "**Roll No&nbsp;: CS23MTECH14007**  \n",
    "\n",
    "**Name&emsp;: Sanyam Kaul**  \n",
    "**Roll No&nbsp;: CS23MTECH14011**  \n",
    "\n",
    "**Name&emsp;: Shrenik Ganguli**  \n",
    "**Roll No&nbsp;: CS23MTECH14014**  \n",
    "\n",
    "**Name&emsp;: Morey Piyush Prabhakar**  \n",
    "**Roll No&nbsp;: AI23MTECH14003**  \n",
    "\n",
    "---"
   ]
  },
  {
   "cell_type": "markdown",
   "id": "b8a394fd-d23e-4f2e-9f13-dca9de9cc945",
   "metadata": {},
   "source": [
    "**Importing libraries:**"
   ]
  },
  {
   "cell_type": "code",
   "execution_count": 1,
   "id": "c08e5a9b-2545-478f-bd16-9230c0c1c146",
   "metadata": {
    "tags": []
   },
   "outputs": [],
   "source": [
    "import numpy as np\n",
    "import pandas as pd\n",
    "from collections import defaultdict\n",
    "import operator\n",
    "import math\n",
    "import random\n",
    "import matplotlib.pyplot as plt\n",
    "import seaborn as sns\n",
    "import warnings\n",
    "warnings.filterwarnings(\"ignore\")"
   ]
  },
  {
   "cell_type": "markdown",
   "id": "eff225bf-11e1-45e1-893b-730555d8cda6",
   "metadata": {},
   "source": [
    "---\n",
    "**Utility Functions:**"
   ]
  },
  {
   "cell_type": "code",
   "execution_count": 2,
   "id": "8491378d-ac42-46c3-a7be-a83b365fd60e",
   "metadata": {},
   "outputs": [],
   "source": [
    "def plot_scatter_plot(x, y, bad_x, bad_y):\n",
    "    plt.scatter(x = x, y = y, label=\"Trust-Rank of nodes\", color='green')\n",
    "    plt.axhline(y=0.007, color='red', linestyle='--', label='Threshold Trust Score')\n",
    "    plt.scatter(x = bad_x, y = bad_y,  marker=\"d\", color=\"orange\", label=\"Bad nodes already known\")\n",
    "    plt.ylabel(\"Trust-Rank Score (Bad trust score)\")\n",
    "    plt.xlabel(\"Node ID [Re-numbered between 0-800]\")\n",
    "    plt.legend()\n",
    "    plt.show()"
   ]
  },
  {
   "cell_type": "code",
   "execution_count": 3,
   "id": "a7eed7bf-6d8c-49c3-82ca-530c0cf8dd02",
   "metadata": {},
   "outputs": [],
   "source": [
    "def plot_histogram(df):\n",
    "    trust_ranks = df['Trust-Score']\n",
    "    bin_values = sorted({round(val, 3) for val in trust_ranks})\n",
    "    plt.figure(figsize=(8, 8))\n",
    "    sns.histplot(data=df, y='Trust-Score', bins = bin_values, color=\"orange\")\n",
    "    plt.title(\"Trust Scores Vs Frequency of Nodes\")\n",
    "    plt.xlabel(\"Node count (Frequency)\")\n",
    "    plt.ylabel(\"Trust Score (Bad trust score)\")\n",
    "    plt.show()"
   ]
  },
  {
   "cell_type": "markdown",
   "id": "5738ac2d-f1f4-42b2-8068-3f04f0719acb",
   "metadata": {},
   "source": [
    "**Loading Payments.csv and bad_sender.csv files:**"
   ]
  },
  {
   "cell_type": "code",
   "execution_count": 4,
   "id": "1a880a2b-0f47-4d3b-a2a5-29abc118776a",
   "metadata": {
    "tags": []
   },
   "outputs": [
    {
     "data": {
      "text/html": [
       "<div>\n",
       "<style scoped>\n",
       "    .dataframe tbody tr th:only-of-type {\n",
       "        vertical-align: middle;\n",
       "    }\n",
       "\n",
       "    .dataframe tbody tr th {\n",
       "        vertical-align: top;\n",
       "    }\n",
       "\n",
       "    .dataframe thead th {\n",
       "        text-align: right;\n",
       "    }\n",
       "</style>\n",
       "<table border=\"1\" class=\"dataframe\">\n",
       "  <thead>\n",
       "    <tr style=\"text-align: right;\">\n",
       "      <th></th>\n",
       "      <th>Sender</th>\n",
       "      <th>Receiver</th>\n",
       "      <th>Amount</th>\n",
       "    </tr>\n",
       "  </thead>\n",
       "  <tbody>\n",
       "    <tr>\n",
       "      <th>0</th>\n",
       "      <td>1309</td>\n",
       "      <td>1011</td>\n",
       "      <td>123051</td>\n",
       "    </tr>\n",
       "    <tr>\n",
       "      <th>1</th>\n",
       "      <td>1309</td>\n",
       "      <td>1011</td>\n",
       "      <td>118406</td>\n",
       "    </tr>\n",
       "    <tr>\n",
       "      <th>2</th>\n",
       "      <td>1309</td>\n",
       "      <td>1011</td>\n",
       "      <td>112456</td>\n",
       "    </tr>\n",
       "    <tr>\n",
       "      <th>3</th>\n",
       "      <td>1309</td>\n",
       "      <td>1011</td>\n",
       "      <td>120593</td>\n",
       "    </tr>\n",
       "    <tr>\n",
       "      <th>4</th>\n",
       "      <td>1309</td>\n",
       "      <td>1011</td>\n",
       "      <td>166396</td>\n",
       "    </tr>\n",
       "  </tbody>\n",
       "</table>\n",
       "</div>"
      ],
      "text/plain": [
       "   Sender  Receiver  Amount\n",
       "0    1309      1011  123051\n",
       "1    1309      1011  118406\n",
       "2    1309      1011  112456\n",
       "3    1309      1011  120593\n",
       "4    1309      1011  166396"
      ]
     },
     "execution_count": 4,
     "metadata": {},
     "output_type": "execute_result"
    }
   ],
   "source": [
    "payments_df = pd.read_csv('Payments.csv')\n",
    "payments_df.head()"
   ]
  },
  {
   "cell_type": "code",
   "execution_count": 5,
   "id": "e86f195a-e126-4cd8-927a-b04cd8f9d015",
   "metadata": {
    "tags": []
   },
   "outputs": [
    {
     "data": {
      "text/html": [
       "<div>\n",
       "<style scoped>\n",
       "    .dataframe tbody tr th:only-of-type {\n",
       "        vertical-align: middle;\n",
       "    }\n",
       "\n",
       "    .dataframe tbody tr th {\n",
       "        vertical-align: top;\n",
       "    }\n",
       "\n",
       "    .dataframe thead th {\n",
       "        text-align: right;\n",
       "    }\n",
       "</style>\n",
       "<table border=\"1\" class=\"dataframe\">\n",
       "  <thead>\n",
       "    <tr style=\"text-align: right;\">\n",
       "      <th></th>\n",
       "      <th>Bad Sender</th>\n",
       "    </tr>\n",
       "  </thead>\n",
       "  <tbody>\n",
       "    <tr>\n",
       "      <th>0</th>\n",
       "      <td>1303</td>\n",
       "    </tr>\n",
       "    <tr>\n",
       "      <th>1</th>\n",
       "      <td>1259</td>\n",
       "    </tr>\n",
       "    <tr>\n",
       "      <th>2</th>\n",
       "      <td>1562</td>\n",
       "    </tr>\n",
       "    <tr>\n",
       "      <th>3</th>\n",
       "      <td>1147</td>\n",
       "    </tr>\n",
       "    <tr>\n",
       "      <th>4</th>\n",
       "      <td>1393</td>\n",
       "    </tr>\n",
       "  </tbody>\n",
       "</table>\n",
       "</div>"
      ],
      "text/plain": [
       "   Bad Sender\n",
       "0        1303\n",
       "1        1259\n",
       "2        1562\n",
       "3        1147\n",
       "4        1393"
      ]
     },
     "execution_count": 5,
     "metadata": {},
     "output_type": "execute_result"
    }
   ],
   "source": [
    "bad_sender_df = pd.read_csv('bad_sender.csv')\n",
    "bad_sender_df.head()"
   ]
  },
  {
   "cell_type": "markdown",
   "id": "1a10ca9c-2d75-46f6-8e1f-8da385cc22eb",
   "metadata": {},
   "source": [
    "--- "
   ]
  },
  {
   "cell_type": "markdown",
   "id": "015d73a5-87ae-401d-a681-4c54f76f032b",
   "metadata": {},
   "source": [
    "**Extracting all unique nodes and bad nodes from dataset:**"
   ]
  },
  {
   "cell_type": "code",
   "execution_count": 6,
   "id": "2b5c9727-8143-45bf-b5fe-0b2c8bd902c4",
   "metadata": {},
   "outputs": [],
   "source": [
    "all_bad_nodes = bad_sender_df[\"Bad Sender\"].unique().tolist()\n",
    "all_unique_nodes = sorted(list(set(payments_df[\"Sender\"]) | set(payments_df[\"Receiver\"]))) # It includes bad nodes also"
   ]
  },
  {
   "cell_type": "markdown",
   "id": "241a27f1-9ccb-418a-8c99-20f84ddc6161",
   "metadata": {},
   "source": [
    "**Storing the Node ID mappings in dictionaries:**"
   ]
  },
  {
   "cell_type": "code",
   "execution_count": 7,
   "id": "1aa39dca-fe56-4f51-a919-73400486b6da",
   "metadata": {
    "tags": []
   },
   "outputs": [
    {
     "name": "stdout",
     "output_type": "stream",
     "text": [
      "Count of all nodes: 799\n",
      "Count of bad nodes: 20\n"
     ]
    }
   ],
   "source": [
    "# nodes_dict: Stores original Node ID to new Node ID mapping: {1001: 0, 1002: 1,....}\n",
    "nodes_dict = {node: index for index, node in enumerate(all_unique_nodes)}\n",
    "\n",
    "# node_index_to_label: Stores new Node ID to original Node ID mapping: {0: 1001, 1 : 1002,....}\n",
    "node_index_to_label = {}\n",
    "for key, value in nodes_dict.items():\n",
    "    node_index_to_label[value] = key\n",
    "\n",
    "# Extracting node indices from the nodes_dict\n",
    "all_nodes = [nodes_dict[i] for i in all_unique_nodes if i in nodes_dict]\n",
    "bad_nodes = [nodes_dict[i] for i in all_bad_nodes if i in nodes_dict]\n",
    "\n",
    "total_nodes_count = len(all_nodes)\n",
    "bad_nodes_count =  len(bad_nodes)\n",
    "print(f'Count of all nodes: {total_nodes_count}')\n",
    "print(f'Count of bad nodes: {bad_nodes_count}')"
   ]
  },
  {
   "cell_type": "markdown",
   "id": "f4604a06-49f5-4b67-9952-6f9e4db94b57",
   "metadata": {},
   "source": [
    "**TrustRank implementation:**\n",
    "- Connected nodes having no outlinks back to bad nodes to avoid trust leakage."
   ]
  },
  {
   "cell_type": "code",
   "execution_count": 8,
   "id": "a1c4ae1c-562f-4364-a36a-2bc0f8f2b9ba",
   "metadata": {
    "tags": []
   },
   "outputs": [],
   "source": [
    "'''\n",
    "Creating the adjacency matrix by considering:\n",
    "'Sender' as source node, 'Receiver' as destination node, and 'Amount' as edge weight\n",
    " adj_list_dict: {\n",
    "                     0: {188: 88788, 344: 22566},\n",
    "                     1: {358: 20660, 532: 6760},\n",
    "                     2: {106: 21277, 332: 54988, 510: 43476, 452: 62765, 666: 48368},\n",
    "                     3: {168: 113338, 193: 99620, 712: 120571},\n",
    "                     4: {252: 60191},\n",
    "                     ...\n",
    "                 }\n",
    "'''\n",
    "adj_list_dict = {}\n",
    "for i in all_nodes:\n",
    "    adj_list_dict[i] = {}\n",
    "for index, row in payments_df.iterrows():\n",
    "    from_node = nodes_dict[row.Sender]\n",
    "    to_node = nodes_dict[row.Receiver]\n",
    "    amount = row.Amount\n",
    "    adj_list = adj_list_dict[from_node]\n",
    "    adj_list[to_node] = amount"
   ]
  },
  {
   "cell_type": "markdown",
   "id": "9de876ae-bde2-4d7e-b73c-189d35e19c38",
   "metadata": {},
   "source": [
    "---  \n",
    "**Constructing Transition Matrix:**"
   ]
  },
  {
   "cell_type": "code",
   "execution_count": 9,
   "id": "f398a44e-d568-4270-a003-d6ec43481ba7",
   "metadata": {
    "tags": []
   },
   "outputs": [],
   "source": [
    "T = np.zeros((total_nodes_count, total_nodes_count))\n",
    "for from_node in adj_list_dict:\n",
    "    adj_list = adj_list_dict[from_node]\n",
    "    sum_of_amount = sum(adj_list.values())\n",
    "    for to_node in adj_list:\n",
    "        T[to_node][from_node] = T[to_node][from_node] + (adj_list[to_node]/sum_of_amount)"
   ]
  },
  {
   "cell_type": "markdown",
   "id": "9b4ce0f9-4ec6-49a4-98e6-74523f08f708",
   "metadata": {},
   "source": [
    "---  \n",
    "**Constructing Initial TrustRank Vector:**  \n",
    "- d: Denotes the static score distribution vector\n",
    "- Initially, we assign trust score of '1 / (Number_of_bad_nodes)' to all bad nodes and 0 to all good nodes"
   ]
  },
  {
   "cell_type": "code",
   "execution_count": 10,
   "id": "30b2eb53-fb90-493c-a438-d0dd65e6e6cc",
   "metadata": {
    "tags": []
   },
   "outputs": [],
   "source": [
    "d = np.full(total_nodes_count, 0.0)\n",
    "for node in bad_nodes:\n",
    "    d[node] = (1./bad_nodes_count)\n",
    "d = d.reshape(-1, 1)"
   ]
  },
  {
   "cell_type": "markdown",
   "id": "8892a4fa-2f38-4254-aa5c-92928d1d695e",
   "metadata": {
    "tags": []
   },
   "source": [
    "**Sum of entries of static scores distribution vector should be equal to 1:**"
   ]
  },
  {
   "cell_type": "code",
   "execution_count": 11,
   "id": "8042e421-8024-4966-9b87-1387286fe561",
   "metadata": {
    "tags": []
   },
   "outputs": [
    {
     "name": "stdout",
     "output_type": "stream",
     "text": [
      "Sum of all elements of r: [1.]\n"
     ]
    }
   ],
   "source": [
    "print('Sum of all elements of r:', sum(d))"
   ]
  },
  {
   "cell_type": "markdown",
   "id": "b2729fd8-42a9-4f91-9ed5-c533c0a65285",
   "metadata": {},
   "source": [
    "--- "
   ]
  },
  {
   "cell_type": "markdown",
   "id": "fa8dd972-4a7c-4b5f-8b38-59aa51bb4c15",
   "metadata": {
    "tags": []
   },
   "source": [
    "**Executing the Trust-Rank algorithm:**  \n",
    "![trust.png](data:image/png;base64,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)"
   ]
  },
  {
   "cell_type": "code",
   "execution_count": 12,
   "id": "66ef4e1c-bc9b-442e-a8c1-9a960a1548a9",
   "metadata": {
    "tags": []
   },
   "outputs": [
    {
     "name": "stdout",
     "output_type": "stream",
     "text": [
      "Iteration: 10\n",
      "Iteration: 20\n",
      "Iteration: 30\n",
      "Iteration: 40\n",
      "Iteration: 50\n",
      "Iteration: 60\n",
      "Iteration: 70\n",
      "Iteration: 80\n",
      "Iteration: 90\n",
      "Iteration: 100\n"
     ]
    }
   ],
   "source": [
    "t = d\n",
    "damping_factor = 0.85\n",
    "t = damping_factor * T.dot(t) + (1 - damping_factor) * d\n",
    "iteration = 1\n",
    "total_iterations = 100\n",
    "\n",
    "while iteration <= total_iterations:\n",
    "    t = damping_factor * T.dot(t) + (1 - damping_factor) * d\n",
    "    iteration += 1\n",
    "    if iteration % 10 == 0:\n",
    "        print(\"Iteration:\", iteration)"
   ]
  },
  {
   "cell_type": "code",
   "execution_count": 13,
   "id": "93c4838c-26ad-44af-a29f-6a8d77afeccf",
   "metadata": {
    "tags": []
   },
   "outputs": [],
   "source": [
    "trust_rank_node_score = [] # to store the node and the corresponding trustrank score\n",
    "for k in range(0, len(t)):\n",
    "        trust_rank_node_score.append([k, t[k]])\n",
    "        \n",
    "# sort the trustrank scores in the decreasing order\n",
    "trust_rank_node_score = sorted(trust_rank_node_score, key = operator.itemgetter(1), reverse = True)"
   ]
  },
  {
   "cell_type": "code",
   "execution_count": 14,
   "id": "2f5acd6c-622f-45bf-9ad9-0b7967148f48",
   "metadata": {
    "tags": []
   },
   "outputs": [],
   "source": [
    "columns = ['Node', 'Trust-Score']\n",
    "df = pd.DataFrame(columns=columns)\n",
    "\n",
    "for [node_index, score] in trust_rank_node_score:\n",
    "    new_row = {'Node': node_index, 'Trust-Score': score[0]}\n",
    "    df = pd.concat([df, pd.DataFrame([new_row])], ignore_index=True)"
   ]
  },
  {
   "cell_type": "markdown",
   "id": "66a2abda-863e-4a36-b34e-8185cc69ba28",
   "metadata": {},
   "source": [
    "**Printing few computed Trust rank values:**"
   ]
  },
  {
   "cell_type": "code",
   "execution_count": 15,
   "id": "797ad7a9-e355-4efa-ad32-cf5de9ff9b06",
   "metadata": {
    "tags": []
   },
   "outputs": [
    {
     "data": {
      "text/html": [
       "<div>\n",
       "<style scoped>\n",
       "    .dataframe tbody tr th:only-of-type {\n",
       "        vertical-align: middle;\n",
       "    }\n",
       "\n",
       "    .dataframe tbody tr th {\n",
       "        vertical-align: top;\n",
       "    }\n",
       "\n",
       "    .dataframe thead th {\n",
       "        text-align: right;\n",
       "    }\n",
       "</style>\n",
       "<table border=\"1\" class=\"dataframe\">\n",
       "  <thead>\n",
       "    <tr style=\"text-align: right;\">\n",
       "      <th></th>\n",
       "      <th>Node</th>\n",
       "      <th>Trust-Score</th>\n",
       "    </tr>\n",
       "  </thead>\n",
       "  <tbody>\n",
       "    <tr>\n",
       "      <th>0</th>\n",
       "      <td>203</td>\n",
       "      <td>0.021315</td>\n",
       "    </tr>\n",
       "    <tr>\n",
       "      <th>1</th>\n",
       "      <td>41</td>\n",
       "      <td>0.018441</td>\n",
       "    </tr>\n",
       "    <tr>\n",
       "      <th>2</th>\n",
       "      <td>198</td>\n",
       "      <td>0.017904</td>\n",
       "    </tr>\n",
       "    <tr>\n",
       "      <th>3</th>\n",
       "      <td>85</td>\n",
       "      <td>0.015963</td>\n",
       "    </tr>\n",
       "    <tr>\n",
       "      <th>4</th>\n",
       "      <td>6</td>\n",
       "      <td>0.014853</td>\n",
       "    </tr>\n",
       "    <tr>\n",
       "      <th>5</th>\n",
       "      <td>529</td>\n",
       "      <td>0.013112</td>\n",
       "    </tr>\n",
       "    <tr>\n",
       "      <th>6</th>\n",
       "      <td>33</td>\n",
       "      <td>0.012231</td>\n",
       "    </tr>\n",
       "    <tr>\n",
       "      <th>7</th>\n",
       "      <td>75</td>\n",
       "      <td>0.011430</td>\n",
       "    </tr>\n",
       "    <tr>\n",
       "      <th>8</th>\n",
       "      <td>93</td>\n",
       "      <td>0.011229</td>\n",
       "    </tr>\n",
       "    <tr>\n",
       "      <th>9</th>\n",
       "      <td>97</td>\n",
       "      <td>0.010573</td>\n",
       "    </tr>\n",
       "    <tr>\n",
       "      <th>10</th>\n",
       "      <td>144</td>\n",
       "      <td>0.010256</td>\n",
       "    </tr>\n",
       "    <tr>\n",
       "      <th>11</th>\n",
       "      <td>119</td>\n",
       "      <td>0.010137</td>\n",
       "    </tr>\n",
       "    <tr>\n",
       "      <th>12</th>\n",
       "      <td>47</td>\n",
       "      <td>0.009839</td>\n",
       "    </tr>\n",
       "    <tr>\n",
       "      <th>13</th>\n",
       "      <td>247</td>\n",
       "      <td>0.009226</td>\n",
       "    </tr>\n",
       "    <tr>\n",
       "      <th>14</th>\n",
       "      <td>157</td>\n",
       "      <td>0.007991</td>\n",
       "    </tr>\n",
       "    <tr>\n",
       "      <th>15</th>\n",
       "      <td>433</td>\n",
       "      <td>0.007822</td>\n",
       "    </tr>\n",
       "    <tr>\n",
       "      <th>16</th>\n",
       "      <td>650</td>\n",
       "      <td>0.007593</td>\n",
       "    </tr>\n",
       "    <tr>\n",
       "      <th>17</th>\n",
       "      <td>30</td>\n",
       "      <td>0.007500</td>\n",
       "    </tr>\n",
       "    <tr>\n",
       "      <th>18</th>\n",
       "      <td>246</td>\n",
       "      <td>0.007500</td>\n",
       "    </tr>\n",
       "    <tr>\n",
       "      <th>19</th>\n",
       "      <td>248</td>\n",
       "      <td>0.007500</td>\n",
       "    </tr>\n",
       "    <tr>\n",
       "      <th>20</th>\n",
       "      <td>284</td>\n",
       "      <td>0.007500</td>\n",
       "    </tr>\n",
       "    <tr>\n",
       "      <th>21</th>\n",
       "      <td>363</td>\n",
       "      <td>0.007500</td>\n",
       "    </tr>\n",
       "    <tr>\n",
       "      <th>22</th>\n",
       "      <td>487</td>\n",
       "      <td>0.007500</td>\n",
       "    </tr>\n",
       "    <tr>\n",
       "      <th>23</th>\n",
       "      <td>552</td>\n",
       "      <td>0.007500</td>\n",
       "    </tr>\n",
       "    <tr>\n",
       "      <th>24</th>\n",
       "      <td>640</td>\n",
       "      <td>0.007500</td>\n",
       "    </tr>\n",
       "  </tbody>\n",
       "</table>\n",
       "</div>"
      ],
      "text/plain": [
       "   Node  Trust-Score\n",
       "0   203     0.021315\n",
       "1    41     0.018441\n",
       "2   198     0.017904\n",
       "3    85     0.015963\n",
       "4     6     0.014853\n",
       "5   529     0.013112\n",
       "6    33     0.012231\n",
       "7    75     0.011430\n",
       "8    93     0.011229\n",
       "9    97     0.010573\n",
       "10  144     0.010256\n",
       "11  119     0.010137\n",
       "12   47     0.009839\n",
       "13  247     0.009226\n",
       "14  157     0.007991\n",
       "15  433     0.007822\n",
       "16  650     0.007593\n",
       "17   30     0.007500\n",
       "18  246     0.007500\n",
       "19  248     0.007500\n",
       "20  284     0.007500\n",
       "21  363     0.007500\n",
       "22  487     0.007500\n",
       "23  552     0.007500\n",
       "24  640     0.007500"
      ]
     },
     "execution_count": 15,
     "metadata": {},
     "output_type": "execute_result"
    }
   ],
   "source": [
    "df.head(n = 25)"
   ]
  },
  {
   "cell_type": "code",
   "execution_count": 16,
   "id": "3cf85f38-3fc4-4347-b02c-f61ffb96ed08",
   "metadata": {
    "tags": []
   },
   "outputs": [],
   "source": [
    "columns = ['Node', 'Trust-Score']\n",
    "bad_node_score_df = pd.DataFrame(columns=columns)\n",
    "\n",
    "for node in bad_nodes:\n",
    "    if node in df['Node']:\n",
    "        index = df['Node'].index[df['Node'] == node][0]\n",
    "        new_row = {'Node': node, 'Trust-Score': df['Trust-Score'][index]}\n",
    "        bad_node_score_df = pd.concat([bad_node_score_df, pd.DataFrame([new_row])], ignore_index=True)"
   ]
  },
  {
   "cell_type": "markdown",
   "id": "be0b86ff-14c3-4f12-b0c3-2aa81df1428d",
   "metadata": {},
   "source": [
    "---  \n",
    "**Scatter-Plot showing Node ID vs Trust Score of respective nodes:**  \n",
    " - Here, high Trust score shows that the node is bad"
   ]
  },
  {
   "cell_type": "code",
   "execution_count": 17,
   "id": "bd458df4-f416-4c05-b686-1b65160cc79f",
   "metadata": {
    "tags": []
   },
   "outputs": [
    {
     "data": {
      "image/png": "[encoded data removed]",
      "text/plain": [
       "<Figure size 640x480 with 1 Axes>"
      ]
     },
     "metadata": {},
     "output_type": "display_data"
    }
   ],
   "source": [
    "plot_scatter_plot(x = df['Node'], y = df['Trust-Score'], bad_x = bad_node_score_df['Node'], bad_y = bad_node_score_df['Trust-Score'])"
   ]
  },
  {
   "cell_type": "markdown",
   "id": "8c0830f4-b3d3-402a-9d65-1027f36e28d1",
   "metadata": {},
   "source": [
    "**Plotting Trust Scores of all nodes in Descending Order:**"
   ]
  },
  {
   "cell_type": "code",
   "execution_count": 18,
   "id": "03c0af16-22ec-45af-9bd3-9afb859b8973",
   "metadata": {
    "tags": []
   },
   "outputs": [
    {
     "data": {
      "image/png": "[encoded data removed]",
      "text/plain": [
       "<Figure size 640x480 with 1 Axes>"
      ]
     },
     "metadata": {},
     "output_type": "display_data"
    }
   ],
   "source": [
    "plot_scatter_plot(x = np.arange(total_nodes_count), y = df['Trust-Score'], bad_x = np.arange(bad_nodes_count), bad_y = bad_node_score_df['Trust-Score'])"
   ]
  },
  {
   "cell_type": "markdown",
   "id": "7e0173e2-1770-4e0a-b11d-17821a61643c",
   "metadata": {},
   "source": [
    "**Plotting histogram of Trust Score Vs Frequency of Nodes:**  \n",
    "- From the plot below we can observe that most of the nodes are good with trust scores ranging from 0.000 to 0.003 (Approx)"
   ]
  },
  {
   "cell_type": "code",
   "execution_count": 19,
   "id": "0868a607-5a8a-490a-bc3d-4355d39625aa",
   "metadata": {
    "tags": []
   },
   "outputs": [
    {
     "data": {
      "image/png": "[encoded data removed]",
      "text/plain": [
       "<Figure size 800x800 with 1 Axes>"
      ]
     },
     "metadata": {},
     "output_type": "display_data"
    }
   ],
   "source": [
    "plot_histogram(df)"
   ]
  },
  {
   "cell_type": "markdown",
   "id": "50bce05a-670a-4b81-87db-3a2c94aee89e",
   "metadata": {},
   "source": [
    "---\n",
    "**Results & Observations:**  \n",
    "\n",
    "- We can observe that, all the bad nodes have the trust score (bad trust score) above the threshold (0.007).\n",
    "- Bad nodes are highlited by diamond symbol in above plots.\n",
    "- Hence, all the good nodes (non-diamond nodes) that lie above the threshold are the **possible bad nodes**."
   ]
  }
 ],
 "metadata": {
  "kernelspec": {
   "display_name": "Python 3 (ipykernel)",
   "language": "python",
   "name": "python3"
  },
  "language_info": {
   "codemirror_mode": {
    "name": "ipython",
    "version": 3
   },
   "file_extension": ".py",
   "mimetype": "text/x-python",
   "name": "python",
   "nbconvert_exporter": "python",
   "pygments_lexer": "ipython3",
   "version": "3.11.5"
  }
 },
 "nbformat": 4,
 "nbformat_minor": 5
}
