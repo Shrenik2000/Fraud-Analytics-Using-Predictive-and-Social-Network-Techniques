{
 "cells": [
  {
   "cell_type": "markdown",
   "id": "17d49c40-cf64-4f43-b222-fb1d6647095b",
   "metadata": {
    "id": "17d49c40-cf64-4f43-b222-fb1d6647095b"
   },
   "source": [
    "**Fraud Analytics Assignment**  \n",
    "**Title: Example-dependent cost-sensitive regression**  \n",
    "---\n",
    "**Group members:**  \n",
    "**Name&emsp;: Dindorkar Mayuresh Rajesh**  \n",
    "**Roll No&nbsp;: CS23MTECH14007**  \n",
    "\n",
    "**Name&emsp;: Sanyam Kaul**  \n",
    "**Roll No&nbsp;: CS23MTECH14011**  \n",
    "\n",
    "**Name&emsp;: Shrenik Ganguli**  \n",
    "**Roll No&nbsp;: CS23MTECH14014**  \n",
    "\n",
    "**Name&emsp;: Morey Piyush Prabhakar**  \n",
    "**Roll No&nbsp;: AI23MTECH14003**  \n",
    "\n",
    "---"
   ]
  },
  {
   "cell_type": "code",
   "execution_count": 1,
   "id": "d84rBHw0LstU",
   "metadata": {
    "colab": {
     "base_uri": "https://localhost:8080/"
    },
    "id": "d84rBHw0LstU",
    "outputId": "04ff0419-081a-4846-96a6-2331b8917132"
   },
   "outputs": [
    {
     "name": "stdout",
     "output_type": "stream",
     "text": [
      "Requirement already satisfied: pygad in c:\\users\\sanya\\anaconda3\\lib\\site-packages (3.3.1)\n",
      "Requirement already satisfied: cloudpickle in c:\\users\\sanya\\anaconda3\\lib\\site-packages (from pygad) (2.2.1)\n",
      "Requirement already satisfied: matplotlib in c:\\users\\sanya\\anaconda3\\lib\\site-packages (from pygad) (3.7.2)\n",
      "Requirement already satisfied: numpy in c:\\users\\sanya\\anaconda3\\lib\\site-packages (from pygad) (1.24.3)\n",
      "Requirement already satisfied: contourpy>=1.0.1 in c:\\users\\sanya\\anaconda3\\lib\\site-packages (from matplotlib->pygad) (1.0.5)\n",
      "Requirement already satisfied: cycler>=0.10 in c:\\users\\sanya\\anaconda3\\lib\\site-packages (from matplotlib->pygad) (0.11.0)\n",
      "Requirement already satisfied: fonttools>=4.22.0 in c:\\users\\sanya\\anaconda3\\lib\\site-packages (from matplotlib->pygad) (4.25.0)\n",
      "Requirement already satisfied: kiwisolver>=1.0.1 in c:\\users\\sanya\\anaconda3\\lib\\site-packages (from matplotlib->pygad) (1.4.4)\n",
      "Requirement already satisfied: packaging>=20.0 in c:\\users\\sanya\\anaconda3\\lib\\site-packages (from matplotlib->pygad) (23.1)\n",
      "Requirement already satisfied: pillow>=6.2.0 in c:\\users\\sanya\\anaconda3\\lib\\site-packages (from matplotlib->pygad) (9.4.0)\n",
      "Requirement already satisfied: pyparsing<3.1,>=2.3.1 in c:\\users\\sanya\\anaconda3\\lib\\site-packages (from matplotlib->pygad) (3.0.9)\n",
      "Requirement already satisfied: python-dateutil>=2.7 in c:\\users\\sanya\\anaconda3\\lib\\site-packages (from matplotlib->pygad) (2.8.2)\n",
      "Requirement already satisfied: six>=1.5 in c:\\users\\sanya\\anaconda3\\lib\\site-packages (from python-dateutil>=2.7->matplotlib->pygad) (1.16.0)\n"
     ]
    }
   ],
   "source": [
    "# Library used for genetic algorithm\n",
    "!pip install pygad"
   ]
  },
  {
   "cell_type": "markdown",
   "id": "d316eca6-3857-41eb-9d7b-49f20e5bba90",
   "metadata": {
    "id": "d316eca6-3857-41eb-9d7b-49f20e5bba90"
   },
   "source": [
    "**Importing libraries:**"
   ]
  },
  {
   "cell_type": "code",
   "execution_count": 2,
   "id": "51018730-f54f-41a4-affe-1e24a6f443e5",
   "metadata": {
    "id": "51018730-f54f-41a4-affe-1e24a6f443e5",
    "tags": []
   },
   "outputs": [],
   "source": [
    "import numpy as np\n",
    "from sklearn.model_selection import train_test_split\n",
    "import matplotlib.pyplot as plt\n",
    "import pandas as pd\n",
    "from sklearn.preprocessing import StandardScaler\n",
    "import warnings\n",
    "from sklearn.linear_model import LogisticRegression\n",
    "import seaborn as sns\n",
    "warnings.filterwarnings(\"ignore\")\n",
    "import pygad\n",
    "from scipy.optimize import minimize"
   ]
  },
  {
   "cell_type": "markdown",
   "id": "e4f42f5c-ed57-4f92-b89b-a9b0649b783f",
   "metadata": {
    "id": "e4f42f5c-ed57-4f92-b89b-a9b0649b783f"
   },
   "source": [
    "---  \n",
    "**Utility Functions:**"
   ]
  },
  {
   "cell_type": "code",
   "execution_count": 3,
   "id": "24725a20-a14e-458b-baf8-f1cc6c38cb87",
   "metadata": {
    "id": "24725a20-a14e-458b-baf8-f1cc6c38cb87",
    "tags": []
   },
   "outputs": [],
   "source": [
    "def count_labels(data, column_name):\n",
    "    return data[column_name].value_counts()"
   ]
  },
  {
   "cell_type": "code",
   "execution_count": 4,
   "id": "854a8fee-7a6b-489b-a3c7-ae70dccb9f43",
   "metadata": {
    "id": "854a8fee-7a6b-489b-a3c7-ae70dccb9f43"
   },
   "outputs": [],
   "source": [
    "def plot_bar_chart(label_counts):\n",
    "    labels = label_counts.index.tolist()\n",
    "    counts = label_counts.values\n",
    "    plt.bar(np.arange(len(labels)), counts, color=['blue', 'orange'])\n",
    "    plt.ylabel('Count')\n",
    "    plt.xlabel('Status')\n",
    "    plt.title(f'Count of labels in the Status column')\n",
    "    plt.xticks(np.arange(len(labels)), labels)\n",
    "    plt.show()"
   ]
  },
  {
   "cell_type": "code",
   "execution_count": 5,
   "id": "4dc14914-57f1-46ca-99a6-0a5cdfdf7d8d",
   "metadata": {
    "id": "4dc14914-57f1-46ca-99a6-0a5cdfdf7d8d"
   },
   "outputs": [],
   "source": [
    "def perform_scaling(X_train, X_test):\n",
    "    std_scaler = StandardScaler()\n",
    "    X_train = std_scaler.fit_transform(X_train)\n",
    "    X_test = std_scaler.transform(X_test)\n",
    "    return std_scaler, X_train, X_test"
   ]
  },
  {
   "cell_type": "code",
   "execution_count": 6,
   "id": "992aad23-15c3-41d9-8584-fd5de02e002a",
   "metadata": {
    "id": "992aad23-15c3-41d9-8584-fd5de02e002a"
   },
   "outputs": [],
   "source": [
    "# Returns FP, TP, TN, FNC\n",
    "def get_cost_matrix_values(Y_train):\n",
    "    num_of_samples = X_train.shape[0]\n",
    "    return np.full(num_of_samples, 6), np.full(num_of_samples, 6), np.zeros(num_of_samples), Y_train.iloc[:,1].values"
   ]
  },
  {
   "cell_type": "code",
   "execution_count": 7,
   "id": "8ac81c18-f2a1-454b-affe-f6bce3bb51e8",
   "metadata": {
    "id": "8ac81c18-f2a1-454b-affe-f6bce3bb51e8"
   },
   "outputs": [],
   "source": [
    "def compute_sigmoid(a):\n",
    "    return 1 / (1 + np.exp(-a))"
   ]
  },
  {
   "cell_type": "code",
   "execution_count": 8,
   "id": "551d566b-d6b4-4e67-a59d-dd3b4df0c750",
   "metadata": {
    "id": "551d566b-d6b4-4e67-a59d-dd3b4df0c750"
   },
   "outputs": [],
   "source": [
    "def calculate_saving(simple_lr_cost, cost_of_cslr):\n",
    "    return (simple_lr_cost - cost_of_cslr) / simple_lr_cost"
   ]
  },
  {
   "cell_type": "markdown",
   "id": "7cbe4601-c098-425d-a1e3-631f9a701150",
   "metadata": {
    "id": "7cbe4601-c098-425d-a1e3-631f9a701150"
   },
   "source": [
    "---"
   ]
  },
  {
   "cell_type": "markdown",
   "id": "399ff5f5-1262-456a-93c1-9da40ace1c52",
   "metadata": {
    "id": "399ff5f5-1262-456a-93c1-9da40ace1c52"
   },
   "source": [
    "**Reading the dataset:**"
   ]
  },
  {
   "cell_type": "code",
   "execution_count": 9,
   "id": "08e64984-b88e-45ff-ac3d-19201ebc8adb",
   "metadata": {
    "colab": {
     "base_uri": "https://localhost:8080/",
     "height": 206
    },
    "id": "08e64984-b88e-45ff-ac3d-19201ebc8adb",
    "outputId": "f5a4dcf4-1a33-4e57-9307-e6f9cb4b462c",
    "tags": []
   },
   "outputs": [
    {
     "data": {
      "text/html": [
       "<div>\n",
       "<style scoped>\n",
       "    .dataframe tbody tr th:only-of-type {\n",
       "        vertical-align: middle;\n",
       "    }\n",
       "\n",
       "    .dataframe tbody tr th {\n",
       "        vertical-align: top;\n",
       "    }\n",
       "\n",
       "    .dataframe thead th {\n",
       "        text-align: right;\n",
       "    }\n",
       "</style>\n",
       "<table border=\"1\" class=\"dataframe\">\n",
       "  <thead>\n",
       "    <tr style=\"text-align: right;\">\n",
       "      <th></th>\n",
       "      <th>NotCount</th>\n",
       "      <th>YesCount</th>\n",
       "      <th>ATPM</th>\n",
       "      <th>PFD</th>\n",
       "      <th>PFG</th>\n",
       "      <th>SFD</th>\n",
       "      <th>SFG</th>\n",
       "      <th>WP</th>\n",
       "      <th>WS</th>\n",
       "      <th>AH</th>\n",
       "      <th>AN</th>\n",
       "      <th>Status</th>\n",
       "      <th>FNC</th>\n",
       "    </tr>\n",
       "  </thead>\n",
       "  <tbody>\n",
       "    <tr>\n",
       "      <th>0</th>\n",
       "      <td>2</td>\n",
       "      <td>21</td>\n",
       "      <td>0.0</td>\n",
       "      <td>0.000</td>\n",
       "      <td>0.0</td>\n",
       "      <td>0.0</td>\n",
       "      <td>0.0</td>\n",
       "      <td>0.000000</td>\n",
       "      <td>0.0</td>\n",
       "      <td>0.0</td>\n",
       "      <td>0.0</td>\n",
       "      <td>0</td>\n",
       "      <td>0.0</td>\n",
       "    </tr>\n",
       "    <tr>\n",
       "      <th>1</th>\n",
       "      <td>23</td>\n",
       "      <td>0</td>\n",
       "      <td>0.0</td>\n",
       "      <td>0.044</td>\n",
       "      <td>0.0</td>\n",
       "      <td>0.0</td>\n",
       "      <td>0.0</td>\n",
       "      <td>0.306179</td>\n",
       "      <td>0.0</td>\n",
       "      <td>0.0</td>\n",
       "      <td>0.0</td>\n",
       "      <td>1</td>\n",
       "      <td>0.0</td>\n",
       "    </tr>\n",
       "    <tr>\n",
       "      <th>2</th>\n",
       "      <td>1</td>\n",
       "      <td>22</td>\n",
       "      <td>0.0</td>\n",
       "      <td>0.000</td>\n",
       "      <td>0.0</td>\n",
       "      <td>0.0</td>\n",
       "      <td>0.0</td>\n",
       "      <td>0.000000</td>\n",
       "      <td>0.0</td>\n",
       "      <td>0.0</td>\n",
       "      <td>0.0</td>\n",
       "      <td>0</td>\n",
       "      <td>0.0</td>\n",
       "    </tr>\n",
       "    <tr>\n",
       "      <th>3</th>\n",
       "      <td>5</td>\n",
       "      <td>18</td>\n",
       "      <td>0.0</td>\n",
       "      <td>0.000</td>\n",
       "      <td>0.0</td>\n",
       "      <td>0.0</td>\n",
       "      <td>0.0</td>\n",
       "      <td>0.000000</td>\n",
       "      <td>0.0</td>\n",
       "      <td>0.0</td>\n",
       "      <td>0.0</td>\n",
       "      <td>1</td>\n",
       "      <td>0.0</td>\n",
       "    </tr>\n",
       "    <tr>\n",
       "      <th>4</th>\n",
       "      <td>1</td>\n",
       "      <td>22</td>\n",
       "      <td>0.0</td>\n",
       "      <td>0.000</td>\n",
       "      <td>0.0</td>\n",
       "      <td>0.0</td>\n",
       "      <td>0.0</td>\n",
       "      <td>0.000000</td>\n",
       "      <td>0.0</td>\n",
       "      <td>0.0</td>\n",
       "      <td>0.0</td>\n",
       "      <td>0</td>\n",
       "      <td>0.0</td>\n",
       "    </tr>\n",
       "  </tbody>\n",
       "</table>\n",
       "</div>"
      ],
      "text/plain": [
       "   NotCount  YesCount  ATPM    PFD  PFG  SFD  SFG        WP   WS   AH   AN  \\\n",
       "0         2        21   0.0  0.000  0.0  0.0  0.0  0.000000  0.0  0.0  0.0   \n",
       "1        23         0   0.0  0.044  0.0  0.0  0.0  0.306179  0.0  0.0  0.0   \n",
       "2         1        22   0.0  0.000  0.0  0.0  0.0  0.000000  0.0  0.0  0.0   \n",
       "3         5        18   0.0  0.000  0.0  0.0  0.0  0.000000  0.0  0.0  0.0   \n",
       "4         1        22   0.0  0.000  0.0  0.0  0.0  0.000000  0.0  0.0  0.0   \n",
       "\n",
       "   Status  FNC  \n",
       "0       0  0.0  \n",
       "1       1  0.0  \n",
       "2       0  0.0  \n",
       "3       1  0.0  \n",
       "4       0  0.0  "
      ]
     },
     "execution_count": 9,
     "metadata": {},
     "output_type": "execute_result"
    }
   ],
   "source": [
    "df = pd.read_csv('costsensitiveregression.csv')\n",
    "df.head()"
   ]
  },
  {
   "cell_type": "code",
   "execution_count": 10,
   "id": "f972d611-ab1a-45a6-a9cd-40efc814ee5a",
   "metadata": {
    "colab": {
     "base_uri": "https://localhost:8080/"
    },
    "id": "f972d611-ab1a-45a6-a9cd-40efc814ee5a",
    "outputId": "0971ac50-1f6c-42a1-a766-342d4c5b2b98",
    "tags": []
   },
   "outputs": [
    {
     "name": "stdout",
     "output_type": "stream",
     "text": [
      "<class 'pandas.core.frame.DataFrame'>\n",
      "RangeIndex: 147636 entries, 0 to 147635\n",
      "Data columns (total 13 columns):\n",
      " #   Column    Non-Null Count   Dtype  \n",
      "---  ------    --------------   -----  \n",
      " 0   NotCount  147636 non-null  int64  \n",
      " 1   YesCount  147636 non-null  int64  \n",
      " 2   ATPM      147636 non-null  float64\n",
      " 3   PFD       147636 non-null  float64\n",
      " 4   PFG       147636 non-null  float64\n",
      " 5   SFD       147636 non-null  float64\n",
      " 6   SFG       147636 non-null  float64\n",
      " 7   WP        147636 non-null  float64\n",
      " 8   WS        147636 non-null  float64\n",
      " 9   AH        147636 non-null  float64\n",
      " 10  AN        147636 non-null  float64\n",
      " 11  Status    147636 non-null  int64  \n",
      " 12  FNC       147636 non-null  float64\n",
      "dtypes: float64(10), int64(3)\n",
      "memory usage: 14.6 MB\n"
     ]
    }
   ],
   "source": [
    "df.info()"
   ]
  },
  {
   "cell_type": "markdown",
   "id": "3bb3a03f-89d5-4cce-95a1-80540833477b",
   "metadata": {
    "id": "3bb3a03f-89d5-4cce-95a1-80540833477b"
   },
   "source": [
    "**Checking null values in the dataset:**"
   ]
  },
  {
   "cell_type": "code",
   "execution_count": 11,
   "id": "1d89a530-1058-4526-8358-aed9549ea34e",
   "metadata": {
    "colab": {
     "base_uri": "https://localhost:8080/"
    },
    "id": "1d89a530-1058-4526-8358-aed9549ea34e",
    "outputId": "d84d4dfa-8d8d-4cc9-8356-9844feb701f6",
    "tags": []
   },
   "outputs": [
    {
     "data": {
      "text/plain": [
       "NotCount    0\n",
       "YesCount    0\n",
       "ATPM        0\n",
       "PFD         0\n",
       "PFG         0\n",
       "SFD         0\n",
       "SFG         0\n",
       "WP          0\n",
       "WS          0\n",
       "AH          0\n",
       "AN          0\n",
       "Status      0\n",
       "FNC         0\n",
       "dtype: int64"
      ]
     },
     "execution_count": 11,
     "metadata": {},
     "output_type": "execute_result"
    }
   ],
   "source": [
    "df.isnull().sum()"
   ]
  },
  {
   "cell_type": "markdown",
   "id": "4d0155cf-147e-40ed-96f7-41fa22781e0c",
   "metadata": {
    "id": "4d0155cf-147e-40ed-96f7-41fa22781e0c"
   },
   "source": [
    "**Count plot for feature 'Status':**"
   ]
  },
  {
   "cell_type": "code",
   "execution_count": 12,
   "id": "8f64c94c-ab72-4dcf-a55b-376d6ddc2199",
   "metadata": {
    "colab": {
     "base_uri": "https://localhost:8080/",
     "height": 472
    },
    "id": "8f64c94c-ab72-4dcf-a55b-376d6ddc2199",
    "outputId": "8247770a-8802-449b-a055-411087247256"
   },
   "outputs": [
    {
     "data": {
      "image/png": "[encoded data removed]",
      "text/plain": [
       "<Figure size 640x480 with 1 Axes>"
      ]
     },
     "metadata": {},
     "output_type": "display_data"
    }
   ],
   "source": [
    "label_counts = count_labels(df, 'Status')\n",
    "plot_bar_chart(label_counts)"
   ]
  },
  {
   "cell_type": "markdown",
   "id": "pCz_Te1PtpGT",
   "metadata": {
    "id": "pCz_Te1PtpGT"
   },
   "source": [
    "---  \n",
    "**Data Pre-processing:**  \n",
    "**Segregating the dataset into dependant and Independant features:**"
   ]
  },
  {
   "cell_type": "code",
   "execution_count": 13,
   "id": "9zMKelqxtjPB",
   "metadata": {
    "id": "9zMKelqxtjPB"
   },
   "outputs": [],
   "source": [
    "X, Y = df.iloc[:, :-2], df.iloc[:, -2:]"
   ]
  },
  {
   "cell_type": "markdown",
   "id": "qz1mS8bYvNkM",
   "metadata": {
    "id": "qz1mS8bYvNkM"
   },
   "source": [
    "**Segregating dataset into train and test sets:**"
   ]
  },
  {
   "cell_type": "code",
   "execution_count": 14,
   "id": "Y_CaM8BgOMan",
   "metadata": {
    "id": "Y_CaM8BgOMan"
   },
   "outputs": [],
   "source": [
    "X_train, X_test, Y_train, Y_test = train_test_split(X, Y, test_size=0.2, random_state = 1)"
   ]
  },
  {
   "cell_type": "markdown",
   "id": "BY_yIZu0V0jV",
   "metadata": {
    "id": "BY_yIZu0V0jV"
   },
   "source": [
    "**Scaling the data**"
   ]
  },
  {
   "cell_type": "markdown",
   "id": "YQ2pzK9Q1Y4R",
   "metadata": {
    "id": "YQ2pzK9Q1Y4R"
   },
   "source": []
  },
  {
   "cell_type": "code",
   "execution_count": 15,
   "id": "I9D8cM-dOPKl",
   "metadata": {
    "id": "I9D8cM-dOPKl"
   },
   "outputs": [],
   "source": [
    "std_scaler, X_train, X_test = perform_scaling(X_train, X_test)"
   ]
  },
  {
   "cell_type": "markdown",
   "id": "9145ea3c-927d-46c1-b449-4ee269e89a37",
   "metadata": {
    "id": "9145ea3c-927d-46c1-b449-4ee269e89a37"
   },
   "source": [
    "---\n",
    "## Bahnsen's Approach:"
   ]
  },
  {
   "cell_type": "markdown",
   "id": "d5867c1c-20fd-4729-a92d-0e03fa96c7a2",
   "metadata": {
    "id": "d5867c1c-20fd-4729-a92d-0e03fa96c7a2"
   },
   "source": [
    "**Creating cost matrix:**"
   ]
  },
  {
   "cell_type": "code",
   "execution_count": 16,
   "id": "p2vBEmlaVO9w",
   "metadata": {
    "id": "p2vBEmlaVO9w"
   },
   "outputs": [],
   "source": [
    "FP, TP, TN, FNC = get_cost_matrix_values(Y_train)"
   ]
  },
  {
   "cell_type": "markdown",
   "id": "5_y6uJeT0sJi",
   "metadata": {
    "id": "5_y6uJeT0sJi"
   },
   "source": [
    "**Cost Sensitive Logistic regression Implementation:**"
   ]
  },
  {
   "cell_type": "markdown",
   "id": "85eab6b4-625b-45e5-88b9-e0988165b9b9",
   "metadata": {
    "id": "85eab6b4-625b-45e5-88b9-e0988165b9b9"
   },
   "source": [
    "![bahnsen.png](data:image/png;base64,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)"
   ]
  },
  {
   "cell_type": "code",
   "execution_count": 17,
   "id": "c0b0fc85-9dec-449f-af61-14373803dfb7",
   "metadata": {
    "id": "c0b0fc85-9dec-449f-af61-14373803dfb7"
   },
   "outputs": [],
   "source": [
    "TO_AVOID_DIVIDE_BY_ZERO_ERROR = 1e-08\n",
    "def cost_sensitive_logistic_regression_cost_function(Y, Y_hat, TP, TN, FP, FN):\n",
    "        cost = (1 - Y) * (Y_hat * FP + (1 - Y_hat) * TN)\n",
    "        return np.mean(cost + (Y * (Y_hat * TP + (1 - Y_hat) * FN)))\n",
    "\n",
    "def calculate_fitness(generation_instance, weights, weight_index):\n",
    "        Y_hat = compute_sigmoid(X_train @ weights)\n",
    "        return np.reciprocal(cost_sensitive_logistic_regression_cost_function(Y = Y_train.iloc[:,0].values, Y_hat = Y_hat, TP = TP,\n",
    "                                                                               FN = FNC, FP = FP, TN = TN) + TO_AVOID_DIVIDE_BY_ZERO_ERROR)\n",
    "class ExampleDependantCostSensitiveRegression():\n",
    "    def __init__(self, generation_iterations = 20, count_parents_mating = 6, training_function = calculate_fitness,\n",
    "                type_of_parent_selection = 'sss', per_pop_solutions = 35, number_of_genes = 11, type_of_crossover = 'single_point', keep_parents = 1,\n",
    "                 per_gene_mutation_percent = 10, type_of_mutation = 'random',\n",
    "                 printing_function = lambda ga_instance: print('Generation: {} have Fitness value: {}'.format(ga_instance.generations_completed, ga_instance.best_solution()[1]))):\n",
    "        super(ExampleDependantCostSensitiveRegression, self).__init__()\n",
    "        self.type_of_crossover = type_of_crossover\n",
    "        self.count_parents_mating = count_parents_mating\n",
    "        self.printing_function = printing_function\n",
    "        self.training_function = training_function\n",
    "        self.per_pop_solutions = per_pop_solutions\n",
    "        self.number_of_genes = number_of_genes\n",
    "        self.generation_iterations = generation_iterations\n",
    "        self.type_of_parent_selection = type_of_parent_selection\n",
    "        self.per_gene_mutation_percent = per_gene_mutation_percent\n",
    "        self.keep_parents = keep_parents\n",
    "        self.type_of_mutation = type_of_mutation\n",
    "\n",
    "\n",
    "    def get_genetic_instance(self):\n",
    "        return pygad.GA(fitness_func = self.training_function, mutation_type = self.type_of_mutation, num_generations = self.generation_iterations,\n",
    "                        parent_selection_type = self.type_of_parent_selection, sol_per_pop = self.per_pop_solutions, num_parents_mating = self.count_parents_mating,\n",
    "                        on_generation = self.printing_function, num_genes = self.number_of_genes, crossover_type = self.type_of_crossover, keep_parents = self.keep_parents,\n",
    "                        mutation_percent_genes = self.per_gene_mutation_percent)\n",
    "\n",
    "    def train(self, genetic_instance):\n",
    "        genetic_instance.run()\n",
    "\n",
    "    def get_trained_weights(self, genetic_instance):\n",
    "        return genetic_instance.best_solution()\n",
    "\n",
    "    def predict(self, X_test, weights):\n",
    "        print(X_test.shape)\n",
    "        return compute_sigmoid(X_test @ weights)"
   ]
  },
  {
   "cell_type": "markdown",
   "id": "16d08220-2cf3-4e5d-98a2-fb9d76828b47",
   "metadata": {
    "id": "16d08220-2cf3-4e5d-98a2-fb9d76828b47"
   },
   "source": [
    "**Runnung the genetic algorithm to obtain best weights of cost sensitive logistic regression:**"
   ]
  },
  {
   "cell_type": "code",
   "execution_count": 18,
   "id": "fd94d91e-9fad-48f6-a4d2-4703d1a88435",
   "metadata": {
    "id": "fd94d91e-9fad-48f6-a4d2-4703d1a88435",
    "outputId": "2ca0c0a3-492e-4bba-c3b1-4f0ad490d06a"
   },
   "outputs": [
    {
     "name": "stdout",
     "output_type": "stream",
     "text": [
      "Generation: 1 have Fitness value: 0.2294951816518564\n",
      "Generation: 2 have Fitness value: 0.23065785198025288\n",
      "Generation: 3 have Fitness value: 0.2357724912017201\n",
      "Generation: 4 have Fitness value: 0.24394355177028595\n",
      "Generation: 5 have Fitness value: 0.2454658805700795\n",
      "Generation: 6 have Fitness value: 0.24782977675637569\n",
      "Generation: 7 have Fitness value: 0.24935045887927657\n",
      "Generation: 8 have Fitness value: 0.2502335759130209\n",
      "Generation: 9 have Fitness value: 0.25288722935149643\n",
      "Generation: 10 have Fitness value: 0.2540205554986274\n",
      "Generation: 11 have Fitness value: 0.25515248449493794\n",
      "Generation: 12 have Fitness value: 0.2556762991930102\n",
      "Generation: 13 have Fitness value: 0.2570497798112678\n",
      "Generation: 14 have Fitness value: 0.2574760502259689\n",
      "Generation: 15 have Fitness value: 0.25777012254133574\n",
      "Generation: 16 have Fitness value: 0.2582019730289493\n",
      "Generation: 17 have Fitness value: 0.2585310763736054\n",
      "Generation: 18 have Fitness value: 0.25869822670105674\n",
      "Generation: 19 have Fitness value: 0.2594742961325438\n",
      "Generation: 20 have Fitness value: 0.2599067771614753\n"
     ]
    }
   ],
   "source": [
    "obj = ExampleDependantCostSensitiveRegression()\n",
    "genetic_instance = obj.get_genetic_instance()\n",
    "obj.train(genetic_instance)"
   ]
  },
  {
   "cell_type": "code",
   "execution_count": 19,
   "id": "83ce272c-2220-42c3-ad17-cec3c17ecefe",
   "metadata": {
    "id": "83ce272c-2220-42c3-ad17-cec3c17ecefe",
    "outputId": "8315b6c1-9c48-4023-8349-6ab5677ca2b1"
   },
   "outputs": [
    {
     "name": "stdout",
     "output_type": "stream",
     "text": [
      "Trained weights: [ 7.90602719 -3.90783922  5.56697317  0.42888307 -0.95568277  1.85388848\n",
      "  2.02772304  1.77603706  1.44604763  0.31482166  0.24892245]\n",
      "(29528, 11)\n",
      "Cost for Cost Sensitive Logistic Regression: 3.9261587925697645\n"
     ]
    }
   ],
   "source": [
    "trained_weights, _, _ = obj.get_trained_weights(genetic_instance)\n",
    "print('Trained weights:', trained_weights)\n",
    "predictions = obj.predict(X_test, trained_weights)\n",
    "predictions = np.array([1 if x >= 0.5 else 0 for x in predictions])\n",
    "cost_of_cslr = cost_sensitive_logistic_regression_cost_function(Y = Y_test.iloc[:,0].values, Y_hat = predictions, TP = 6, FN = Y_test.iloc[:,1].values, FP = 6, TN = 0)\n",
    "print(\"Cost for Cost Sensitive Logistic Regression:\", cost_of_cslr)"
   ]
  },
  {
   "cell_type": "markdown",
   "id": "ba58732c-ab69-4d7c-b251-661e7454c47e",
   "metadata": {
    "id": "ba58732c-ab69-4d7c-b251-661e7454c47e"
   },
   "source": [
    "---"
   ]
  },
  {
   "cell_type": "markdown",
   "id": "0d49e74c-0c26-4861-be80-4092bb347876",
   "metadata": {
    "id": "0d49e74c-0c26-4861-be80-4092bb347876"
   },
   "source": [
    "**Comparing the results with inbuilt Logistic Regressor of ScikitLearn:**"
   ]
  },
  {
   "cell_type": "code",
   "execution_count": 20,
   "id": "caTUrk0klaMH",
   "metadata": {
    "id": "caTUrk0klaMH",
    "outputId": "8b3ae8c7-41f0-46be-a1a2-ac6e5bc84f02"
   },
   "outputs": [
    {
     "name": "stdout",
     "output_type": "stream",
     "text": [
      "Cost for Simple (Sklearn's) Logistic Regression: 27.71167158971146\n"
     ]
    }
   ],
   "source": [
    "simple_lr = LogisticRegression()\n",
    "simple_lr.fit(X_train, Y_train.iloc[:,0])\n",
    "simple_lr_pred = simple_lr.predict(X_test)\n",
    "\n",
    "simple_lr_pred = np.array([1 if x >= 0.5 else 0 for x in simple_lr_pred])\n",
    "simple_lr_cost = cost_sensitive_logistic_regression_cost_function(Y = Y_test.iloc[:,0].values, Y_hat = simple_lr_pred, TP = 6, FN = Y_test.iloc[:,1].values, FP = 6, TN = 0)\n",
    "print(\"Cost for Simple (Sklearn's) Logistic Regression:\", simple_lr_cost)"
   ]
  },
  {
   "cell_type": "markdown",
   "id": "masEM5d2o_wZ",
   "metadata": {
    "id": "masEM5d2o_wZ"
   },
   "source": [
    "---  "
   ]
  },
  {
   "cell_type": "markdown",
   "id": "542b0b42-4573-4382-bfed-d130cf3d5dfc",
   "metadata": {
    "id": "542b0b42-4573-4382-bfed-d130cf3d5dfc"
   },
   "source": [
    "**Calculating the cost saving score:**"
   ]
  },
  {
   "cell_type": "code",
   "execution_count": 21,
   "id": "LeQn6JfNpIRh",
   "metadata": {
    "colab": {
     "base_uri": "https://localhost:8080/"
    },
    "id": "LeQn6JfNpIRh",
    "outputId": "ac6a03ce-ec6a-429c-990f-22152055cbcf"
   },
   "outputs": [
    {
     "name": "stdout",
     "output_type": "stream",
     "text": [
      "Simple LR score Vs Cost sensitive LR saving score: 0.8583211128257079\n"
     ]
    }
   ],
   "source": [
    "print(\"Simple LR score Vs Cost sensitive LR saving score:\", calculate_saving(cost_of_cslr = cost_of_cslr, simple_lr_cost = simple_lr_cost))"
   ]
  },
  {
   "cell_type": "markdown",
   "id": "ae1d0c7c-1fbe-43f9-aa52-0e25bc03c6a8",
   "metadata": {
    "id": "ae1d0c7c-1fbe-43f9-aa52-0e25bc03c6a8"
   },
   "source": [
    "---"
   ]
  },
  {
   "cell_type": "markdown",
   "id": "efb40564-addf-4844-8022-236b2d230b34",
   "metadata": {
    "id": "efb40564-addf-4844-8022-236b2d230b34"
   },
   "source": [
    "## Guhnmann's Approach (Variant A):"
   ]
  },
  {
   "cell_type": "markdown",
   "id": "c44f6f34-85d7-4e93-a128-72eed91d3730",
   "metadata": {
    "id": "c44f6f34-85d7-4e93-a128-72eed91d3730"
   },
   "source": [
    "![approach_A.png](data:image/png;base64,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)"
   ]
  },
  {
   "cell_type": "code",
   "execution_count": 22,
   "id": "bdb128c0-8609-43e3-b411-3f077d92ea39",
   "metadata": {
    "id": "bdb128c0-8609-43e3-b411-3f077d92ea39",
    "tags": []
   },
   "outputs": [],
   "source": [
    "def weighted_logistic_loss(weights, X, y, cost_matrix):\n",
    "    # Extract model parameters\n",
    "    w = weights[:-1]\n",
    "    b = weights[-1]\n",
    "\n",
    "    # Compute predicted probabilities\n",
    "    z = np.dot(X, w) + b\n",
    "    probs = 1 / (1 + np.exp(-z))\n",
    "\n",
    "    # Compute logistic loss with misclassification costs\n",
    "    loss = -np.mean(cost_matrix[:, 0] * y[:,0] * np.log(probs + 1e-15 ) +\n",
    "                    cost_matrix[:, 1] * y[:,0] * np.log(1 - probs + 1e-15 ) +\n",
    "                    cost_matrix[:, 2] * (1 - y[:,0]) * np.log(probs + 1e-15 ) +\n",
    "                    cost_matrix[:, 3] * (1 - y[:,0]) * np.log(1 - probs + 1e-15 ))\n",
    "\n",
    "    return loss"
   ]
  },
  {
   "cell_type": "code",
   "execution_count": 23,
   "id": "0c959407-7cd0-43d2-a308-ae72df3882bb",
   "metadata": {
    "id": "0c959407-7cd0-43d2-a308-ae72df3882bb",
    "tags": []
   },
   "outputs": [],
   "source": [
    "def cost_sensitive_logistic_regression(X_train, y_train, X_test, y_test, cost_matrix):\n",
    "    # Initialize weights (including bias term)\n",
    "    num_features = X_train.shape[1]\n",
    "    initial_weights = np.zeros(num_features + 1)\n",
    "\n",
    "    # Define callback function to print iteration information\n",
    "    def callback(weights):\n",
    "        print(f\"Loss: {weighted_logistic_loss(weights, X_train, y_train, cost_matrix)}\")\n",
    "\n",
    "    # Minimize the weighted logistic loss with iteration callback\n",
    "    res = minimize(weighted_logistic_loss, initial_weights, args=(X_train, y_train, cost_matrix), method='BFGS', options={'maxiter': 20}, callback=callback)\n",
    "    weights = res.x\n",
    "\n",
    "    # Extract optimal weights and bias\n",
    "    w = weights[:-1]\n",
    "    b = weights[-1]\n",
    "\n",
    "    # Predict on test data\n",
    "    z = np.dot(X_test, w) + b\n",
    "    y_pred = np.round(1 / (1 + np.exp(-z)))\n",
    "\n",
    "    print('Finished')\n",
    "    return weights"
   ]
  },
  {
   "cell_type": "code",
   "execution_count": 24,
   "id": "c7799358-24b7-47bd-83a4-ed7e758a93fc",
   "metadata": {
    "id": "c7799358-24b7-47bd-83a4-ed7e758a93fc",
    "outputId": "c034abaf-3d5c-496d-e0fc-0ddd0f93dd5c"
   },
   "outputs": [
    {
     "name": "stdout",
     "output_type": "stream",
     "text": [
      "Loss: 18.285193352358363\n",
      "Loss: 12.109292869353467\n",
      "Loss: 11.605889248016902\n",
      "Loss: 10.854695121334833\n",
      "Loss: 10.005322628099108\n",
      "Loss: 9.938750775096162\n",
      "Loss: 9.82102061061701\n",
      "Loss: 9.654153797429135\n",
      "Loss: 9.413174322729056\n",
      "Loss: 9.159201120332899\n",
      "Loss: 8.853975828469498\n",
      "Loss: 8.630809870690786\n",
      "Loss: 8.535067006824622\n",
      "Loss: 8.494091806095675\n",
      "Loss: 8.477056068355825\n",
      "Loss: 8.469877809773024\n",
      "Loss: 8.466031656435044\n",
      "Loss: 8.462488766571093\n",
      "Loss: 8.459722469851604\n",
      "Loss: 8.457842755576396\n",
      "Finished\n"
     ]
    }
   ],
   "source": [
    "# Split features and target variable\n",
    "X = df.iloc[:, :-2].values  # Features (columns 0 to 10)\n",
    "y = df.iloc[:, -2:].values   # Target variable (column 11)\n",
    "\n",
    "# Standardize features\n",
    "scaler = StandardScaler()\n",
    "X = scaler.fit_transform(X)\n",
    "\n",
    "# Split the dataset into training and test sets\n",
    "X_train, X_test, y_train, y_test = train_test_split(X, y, test_size=0.2, random_state=42)\n",
    "\n",
    "# Define the cost matrix based on your problem\n",
    "False_positive = np.full(len(y_train), 4)\n",
    "True_positive = np.full(len(y_train), 4)\n",
    "True_negative = np.zeros(len(y_train))\n",
    "cost_matrix = np.column_stack((False_positive, y_train[:,1], True_positive, True_negative)).astype(float)\n",
    "\n",
    "# Train cost-sensitive logistic regression model\n",
    "weights = cost_sensitive_logistic_regression(X_train, y_train, X_test, y_test, cost_matrix)"
   ]
  },
  {
   "cell_type": "code",
   "execution_count": 25,
   "id": "deb1fccc-7e1c-4c58-b536-9993bd6832cd",
   "metadata": {
    "id": "deb1fccc-7e1c-4c58-b536-9993bd6832cd",
    "tags": []
   },
   "outputs": [],
   "source": [
    "cost_of_cslr = weighted_logistic_loss(weights,X_train, y_train, cost_matrix)"
   ]
  },
  {
   "cell_type": "code",
   "execution_count": 26,
   "id": "52955823-98da-4cfc-b18c-0578fdfba3a4",
   "metadata": {
    "id": "52955823-98da-4cfc-b18c-0578fdfba3a4",
    "outputId": "f92eb868-9e56-4c1c-83a6-f374a889ed62",
    "tags": []
   },
   "outputs": [
    {
     "name": "stdout",
     "output_type": "stream",
     "text": [
      "Cost for Cost Sensitive Logistic Regression (Guhnmann's approach): 8.457842755576396\n"
     ]
    }
   ],
   "source": [
    "print(\"Cost for Cost Sensitive Logistic Regression (Guhnmann's approach):\", cost_of_cslr)"
   ]
  },
  {
   "cell_type": "code",
   "execution_count": 27,
   "id": "5f4155a4-72ab-4195-b74d-0630d98576e6",
   "metadata": {
    "id": "5f4155a4-72ab-4195-b74d-0630d98576e6",
    "outputId": "e3996b37-e6d4-447e-8c01-6ddc3957dbfd",
    "tags": []
   },
   "outputs": [
    {
     "name": "stdout",
     "output_type": "stream",
     "text": [
      "Simple LR score Vs Cost sensitive LR saving (Guhnmann's approach) score: 0.6947913182286504\n"
     ]
    }
   ],
   "source": [
    "print(\"Simple LR score Vs Cost sensitive LR saving (Guhnmann's approach) score:\", calculate_saving(cost_of_cslr = cost_of_cslr, simple_lr_cost = simple_lr_cost))"
   ]
  },
  {
   "cell_type": "markdown",
   "id": "2eaa5aeb-616d-4bc2-a6d9-3f94f5c0eb45",
   "metadata": {
    "id": "2eaa5aeb-616d-4bc2-a6d9-3f94f5c0eb45"
   },
   "source": [
    "## Results:\n",
    "- Ran all the logistic regreession algorithms for 20 epochs\n",
    "\n",
    "| Approach  | Average Cost| Savings Score wtr Simple Logistic Regression |\n",
    "|:----------:|:----------:|:----------:|\n",
    "| Simple Logistic Regression | 27.71 | NA |\n",
    "| Cost Sensitive Logistic Regression (Bahnsen's Approach) | 3.93 | 0.85 |\n",
    "| Cost Sensitive Logistic Regression (Guhnman's Approach) | 8.45 | 0.69 |\n"
   ]
  },
  {
   "cell_type": "code",
   "execution_count": null,
   "id": "e2c33223-b675-4bc2-b38b-38fdfdc34a6a",
   "metadata": {
    "id": "e2c33223-b675-4bc2-b38b-38fdfdc34a6a"
   },
   "outputs": [],
   "source": []
  }
 ],
 "metadata": {
  "colab": {
   "provenance": []
  },
  "kernelspec": {
   "display_name": "Python 3 (ipykernel)",
   "language": "python",
   "name": "python3"
  },
  "language_info": {
   "codemirror_mode": {
    "name": "ipython",
    "version": 3
   },
   "file_extension": ".py",
   "mimetype": "text/x-python",
   "name": "python",
   "nbconvert_exporter": "python",
   "pygments_lexer": "ipython3",
   "version": "3.11.5"
  }
 },
 "nbformat": 4,
 "nbformat_minor": 5
}
